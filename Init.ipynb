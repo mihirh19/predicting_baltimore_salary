{
  "cells": [
    {
      "cell_type": "markdown",
      "source": "## Initialization Notebook\nThis is your initialization notebook.\n\n**What's this for?**\n\nYou can put custom code you want us to run every time we setup your environment in here. \n\n**Awesome! Anything I should not put in here?**\n\nPlease don't install `jupyter` or `jedi` packages, they would break your Deepnote environment. Also, no need to put `!pip install`s here, we already save those automatically!\n\n**I want to learn more!**\n\nGreat! Just [head over to our docs](https://deepnote.com/docs/custom-initialization).",
      "metadata": {
        "cell_id": "b26d2661da48407d9612374ef6ed9093",
        "deepnote_cell_type": "markdown"
      },
      "block_group": "b26d2661da48407d9612374ef6ed9093"
    },
    {
      "cell_type": "code",
      "source": "%%bash\n# If your project has a 'requirements.txt' file, we'll install it here.\nif test -f requirements.txt\n  then\n    pip install -r ./requirements.txt\n  else echo \"There's no requirements.txt, so nothing to install.\"\nfi",
      "metadata": {
        "source_hash": null,
        "execution_start": 1703521007148,
        "execution_millis": 9627,
        "deepnote_to_be_reexecuted": false,
        "cell_id": "7a4c2a46e8dc425eb88f29a711ddf6c4",
        "deepnote_cell_type": "code"
      },
      "outputs": [
        {
          "name": "stdout",
          "text": "Collecting google-generativeai\n  Downloading google_generativeai-0.3.2-py3-none-any.whl (146 kB)\n     ━━━━━━━━━━━━━━━━━━━━━━━━━━━━━━━━━━━━━━━ 146.9/146.9 kB 2.3 MB/s eta 0:00:00\nCollecting google-ai-generativelanguage==0.4.0\n  Downloading google_ai_generativelanguage-0.4.0-py3-none-any.whl (598 kB)\n     ━━━━━━━━━━━━━━━━━━━━━━━━━━━━━━━━━━━━━━━ 598.7/598.7 kB 9.6 MB/s eta 0:00:00\nRequirement already satisfied: google-api-core in /shared-libs/python3.9/py/lib/python3.9/site-packages (from google-generativeai->-r ./requirements.txt (line 1)) (2.11.1)\nRequirement already satisfied: typing-extensions in /shared-libs/python3.9/py/lib/python3.9/site-packages (from google-generativeai->-r ./requirements.txt (line 1)) (4.4.0)\nRequirement already satisfied: google-auth in /shared-libs/python3.9/py/lib/python3.9/site-packages (from google-generativeai->-r ./requirements.txt (line 1)) (2.21.0)\nRequirement already satisfied: protobuf in /shared-libs/python3.9/py/lib/python3.9/site-packages (from google-generativeai->-r ./requirements.txt (line 1)) (3.19.6)\nRequirement already satisfied: tqdm in /shared-libs/python3.9/py/lib/python3.9/site-packages (from google-generativeai->-r ./requirements.txt (line 1)) (4.64.1)\nCollecting proto-plus<2.0.0dev,>=1.22.3\n  Downloading proto_plus-1.23.0-py3-none-any.whl (48 kB)\n     ━━━━━━━━━━━━━━━━━━━━━━━━━━━━━━━━━━━━━━━━ 48.8/48.8 kB 8.9 MB/s eta 0:00:00\nRequirement already satisfied: requests<3.0.0.dev0,>=2.18.0 in /shared-libs/python3.9/py/lib/python3.9/site-packages (from google-api-core->google-generativeai->-r ./requirements.txt (line 1)) (2.28.1)\nRequirement already satisfied: googleapis-common-protos<2.0.dev0,>=1.56.2 in /shared-libs/python3.9/py/lib/python3.9/site-packages (from google-api-core->google-generativeai->-r ./requirements.txt (line 1)) (1.56.4)\nRequirement already satisfied: six>=1.9.0 in /shared-libs/python3.9/py-core/lib/python3.9/site-packages (from google-auth->google-generativeai->-r ./requirements.txt (line 1)) (1.16.0)\nRequirement already satisfied: rsa<5,>=3.1.4 in /shared-libs/python3.9/py/lib/python3.9/site-packages (from google-auth->google-generativeai->-r ./requirements.txt (line 1)) (4.9)\nRequirement already satisfied: pyasn1-modules>=0.2.1 in /shared-libs/python3.9/py/lib/python3.9/site-packages (from google-auth->google-generativeai->-r ./requirements.txt (line 1)) (0.2.8)\nRequirement already satisfied: cachetools<6.0,>=2.0.0 in /shared-libs/python3.9/py/lib/python3.9/site-packages (from google-auth->google-generativeai->-r ./requirements.txt (line 1)) (5.2.0)\nRequirement already satisfied: urllib3<2.0 in /shared-libs/python3.9/py/lib/python3.9/site-packages (from google-auth->google-generativeai->-r ./requirements.txt (line 1)) (1.26.12)\nRequirement already satisfied: grpcio-status<2.0.dev0,>=1.33.2 in /shared-libs/python3.9/py/lib/python3.9/site-packages (from google-api-core->google-generativeai->-r ./requirements.txt (line 1)) (1.48.2)\nRequirement already satisfied: grpcio<2.0dev,>=1.33.2 in /shared-libs/python3.9/py/lib/python3.9/site-packages (from google-api-core->google-generativeai->-r ./requirements.txt (line 1)) (1.50.0)\nRequirement already satisfied: pyasn1<0.5.0,>=0.4.6 in /shared-libs/python3.9/py/lib/python3.9/site-packages (from pyasn1-modules>=0.2.1->google-auth->google-generativeai->-r ./requirements.txt (line 1)) (0.4.8)\nRequirement already satisfied: certifi>=2017.4.17 in /shared-libs/python3.9/py/lib/python3.9/site-packages (from requests<3.0.0.dev0,>=2.18.0->google-api-core->google-generativeai->-r ./requirements.txt (line 1)) (2022.9.24)\nRequirement already satisfied: idna<4,>=2.5 in /shared-libs/python3.9/py-core/lib/python3.9/site-packages (from requests<3.0.0.dev0,>=2.18.0->google-api-core->google-generativeai->-r ./requirements.txt (line 1)) (3.4)\nRequirement already satisfied: charset-normalizer<3,>=2 in /shared-libs/python3.9/py-core/lib/python3.9/site-packages (from requests<3.0.0.dev0,>=2.18.0->google-api-core->google-generativeai->-r ./requirements.txt (line 1)) (2.1.1)\nInstalling collected packages: proto-plus, google-ai-generativelanguage, google-generativeai\n  Attempting uninstall: proto-plus\n    Found existing installation: proto-plus 1.22.1\n    Not uninstalling proto-plus at /shared-libs/python3.9/py/lib/python3.9/site-packages, outside environment /root/venv\n    Can't uninstall 'proto-plus'. No files were found to uninstall.\nERROR: pip's dependency resolver does not currently take into account all the packages that are installed. This behaviour is the source of the following dependency conflicts.\ngoogle-cloud-spanner 3.36.0 requires sqlparse>=0.4.4, but you have sqlparse 0.4.3 which is incompatible.\nSuccessfully installed google-ai-generativelanguage-0.4.0 google-generativeai-0.3.2 proto-plus-1.23.0\n\n[notice] A new release of pip is available: 23.0.1 -> 23.3.2\n[notice] To update, run: pip install --upgrade pip\n",
          "output_type": "stream"
        }
      ],
      "execution_count": null,
      "block_group": "7a4c2a46e8dc425eb88f29a711ddf6c4"
    },
    {
      "cell_type": "markdown",
      "source": "<a style='text-decoration:none;line-height:16px;display:flex;color:#5B5B62;padding:10px;justify-content:end;' href='https://deepnote.com?utm_source=created-in-deepnote-cell&projectId=092db9f4-8ca6-4f26-b861-61a1e4db6b37' target=\"_blank\">\n<img alt='Created in deepnote.com' style='display:inline;max-height:16px;margin:0px;margin-right:7.5px;' src='data:image/svg+xml;base64,PD94bWwgdmVyc2lvbj0iMS4wIiBlbmNvZGluZz0iVVRGLTgiPz4KPHN2ZyB3aWR0aD0iODBweCIgaGVpZ2h0PSI4MHB4IiB2aWV3Qm94PSIwIDAgODAgODAiIHZlcnNpb249IjEuMSIgeG1sbnM9Imh0dHA6Ly93d3cudzMub3JnLzIwMDAvc3ZnIiB4bWxuczp4bGluaz0iaHR0cDovL3d3dy53My5vcmcvMTk5OS94bGluayI+CiAgICA8IS0tIEdlbmVyYXRvcjogU2tldGNoIDU0LjEgKDc2NDkwKSAtIGh0dHBzOi8vc2tldGNoYXBwLmNvbSAtLT4KICAgIDx0aXRsZT5Hcm91cCAzPC90aXRsZT4KICAgIDxkZXNjPkNyZWF0ZWQgd2l0aCBTa2V0Y2guPC9kZXNjPgogICAgPGcgaWQ9IkxhbmRpbmciIHN0cm9rZT0ibm9uZSIgc3Ryb2tlLXdpZHRoPSIxIiBmaWxsPSJub25lIiBmaWxsLXJ1bGU9ImV2ZW5vZGQiPgogICAgICAgIDxnIGlkPSJBcnRib2FyZCIgdHJhbnNmb3JtPSJ0cmFuc2xhdGUoLTEyMzUuMDAwMDAwLCAtNzkuMDAwMDAwKSI+CiAgICAgICAgICAgIDxnIGlkPSJHcm91cC0zIiB0cmFuc2Zvcm09InRyYW5zbGF0ZSgxMjM1LjAwMDAwMCwgNzkuMDAwMDAwKSI+CiAgICAgICAgICAgICAgICA8cG9seWdvbiBpZD0iUGF0aC0yMCIgZmlsbD0iIzAyNjVCNCIgcG9pbnRzPSIyLjM3NjIzNzYyIDgwIDM4LjA0NzY2NjcgODAgNTcuODIxNzgyMiA3My44MDU3NTkyIDU3LjgyMTc4MjIgMzIuNzU5MjczOSAzOS4xNDAyMjc4IDMxLjY4MzE2ODMiPjwvcG9seWdvbj4KICAgICAgICAgICAgICAgIDxwYXRoIGQ9Ik0zNS4wMDc3MTgsODAgQzQyLjkwNjIwMDcsNzYuNDU0OTM1OCA0Ny41NjQ5MTY3LDcxLjU0MjI2NzEgNDguOTgzODY2LDY1LjI2MTk5MzkgQzUxLjExMjI4OTksNTUuODQxNTg0MiA0MS42NzcxNzk1LDQ5LjIxMjIyODQgMjUuNjIzOTg0Niw0OS4yMTIyMjg0IEMyNS40ODQ5Mjg5LDQ5LjEyNjg0NDggMjkuODI2MTI5Niw0My4yODM4MjQ4IDM4LjY0NzU4NjksMzEuNjgzMTY4MyBMNzIuODcxMjg3MSwzMi41NTQ0MjUgTDY1LjI4MDk3Myw2Ny42NzYzNDIxIEw1MS4xMTIyODk5LDc3LjM3NjE0NCBMMzUuMDA3NzE4LDgwIFoiIGlkPSJQYXRoLTIyIiBmaWxsPSIjMDAyODY4Ij48L3BhdGg+CiAgICAgICAgICAgICAgICA8cGF0aCBkPSJNMCwzNy43MzA0NDA1IEwyNy4xMTQ1MzcsMC4yNTcxMTE0MzYgQzYyLjM3MTUxMjMsLTEuOTkwNzE3MDEgODAsMTAuNTAwMzkyNyA4MCwzNy43MzA0NDA1IEM4MCw2NC45NjA0ODgyIDY0Ljc3NjUwMzgsNzkuMDUwMzQxNCAzNC4zMjk1MTEzLDgwIEM0Ny4wNTUzNDg5LDc3LjU2NzA4MDggNTMuNDE4MjY3Nyw3MC4zMTM2MTAzIDUzLjQxODI2NzcsNTguMjM5NTg4NSBDNTMuNDE4MjY3Nyw0MC4xMjg1NTU3IDM2LjMwMzk1NDQsMzcuNzMwNDQwNSAyNS4yMjc0MTcsMzcuNzMwNDQwNSBDMTcuODQzMDU4NiwzNy43MzA0NDA1IDkuNDMzOTE5NjYsMzcuNzMwNDQwNSAwLDM3LjczMDQ0MDUgWiIgaWQ9IlBhdGgtMTkiIGZpbGw9IiMzNzkzRUYiPjwvcGF0aD4KICAgICAgICAgICAgPC9nPgogICAgICAgIDwvZz4KICAgIDwvZz4KPC9zdmc+' > </img>\nCreated in <span style='font-weight:600;margin-left:4px;'>Deepnote</span></a>",
      "metadata": {
        "created_in_deepnote_cell": true,
        "deepnote_cell_type": "markdown"
      }
    }
  ],
  "nbformat": 4,
  "nbformat_minor": 0,
  "metadata": {
    "deepnote": {},
    "orig_nbformat": 2,
    "deepnote_notebook_id": "85311889897641a29acae175f7c08fcd",
    "deepnote_persisted_session": {
      "createdAt": "2023-12-25T17:15:05.245Z"
    },
    "deepnote_execution_queue": []
  }
}