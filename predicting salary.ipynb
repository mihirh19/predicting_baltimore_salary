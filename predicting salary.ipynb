{
  "cells": [
    {
      "cell_type": "code",
      "source": "import numpy as np\nimport pandas as pd\nimport matplotlib.pyplot as plt\nimport seaborn as sns\nimport re\nfrom sklearn.preprocessing import StandardScaler\nfrom sklearn.svm import SVR\nfrom sklearn.metrics import r2_score, mean_absolute_error, mean_squared_error",
      "metadata": {
        "source_hash": null,
        "execution_start": 1703522685114,
        "execution_millis": 16,
        "deepnote_to_be_reexecuted": false,
        "cell_id": "290adc4602864bff802d81971e3ef185",
        "deepnote_cell_type": "code"
      },
      "outputs": [],
      "execution_count": null,
      "block_group": "290adc4602864bff802d81971e3ef185"
    },
    {
      "cell_type": "code",
      "source": "df = pd.read_csv(\"https://raw.githubusercontent.com/Lochana24/Baltimore-Salary-Prediction/main/train.csv\")",
      "metadata": {
        "source_hash": null,
        "execution_start": 1703522899080,
        "execution_millis": 223,
        "deepnote_to_be_reexecuted": false,
        "cell_id": "1184d3aa60064799816a2151dd903995",
        "deepnote_cell_type": "code"
      },
      "outputs": [],
      "execution_count": null,
      "block_group": "2b1f3b9b2ebb431ca1219ed3eba0d6b5"
    },
    {
      "cell_type": "code",
      "source": "df",
      "metadata": {
        "source_hash": null,
        "execution_start": 1703522905759,
        "execution_millis": 203,
        "deepnote_to_be_reexecuted": false,
        "cell_id": "be4ee747591b4f5bbedf84674acf6c18",
        "deepnote_cell_type": "code"
      },
      "outputs": [
        {
          "output_type": "execute_result",
          "execution_count": 8,
          "data": {
            "application/vnd.deepnote.dataframe.v3+json": {
              "column_count": 7,
              "row_count": 18981,
              "columns": [
                {
                  "name": " Name",
                  "dtype": "object",
                  "stats": {
                    "unique_count": 18788,
                    "nan_count": 0,
                    "categories": [
                      {
                        "name": "Alexander,Jennifer",
                        "count": 2
                      },
                      {
                        "name": "Amatus-Salaam,Aasya",
                        "count": 2
                      },
                      {
                        "name": "18786 others",
                        "count": 18977
                      }
                    ]
                  }
                },
                {
                  "name": "JobTitle",
                  "dtype": "object",
                  "stats": {
                    "unique_count": 1075,
                    "nan_count": 0,
                    "categories": [
                      {
                        "name": "AIDE BLUE CHIP",
                        "count": 4817
                      },
                      {
                        "name": "POLICE OFFICER",
                        "count": 1866
                      },
                      {
                        "name": "1073 others",
                        "count": 12298
                      }
                    ]
                  }
                },
                {
                  "name": "AgencyID",
                  "dtype": "object",
                  "stats": {
                    "unique_count": 1177,
                    "nan_count": 0,
                    "categories": [
                      {
                        "name": "P04001",
                        "count": 316
                      },
                      {
                        "name": "C90786",
                        "count": 276
                      },
                      {
                        "name": "1175 others",
                        "count": 18389
                      }
                    ]
                  }
                },
                {
                  "name": "Agency",
                  "dtype": "object",
                  "stats": {
                    "unique_count": 65,
                    "nan_count": 0,
                    "categories": [
                      {
                        "name": "Youth Summer  ",
                        "count": 4323
                      },
                      {
                        "name": "Police Department ",
                        "count": 3211
                      },
                      {
                        "name": "63 others",
                        "count": 11447
                      }
                    ]
                  }
                },
                {
                  "name": "HireDate",
                  "dtype": "object",
                  "stats": {
                    "unique_count": 4737,
                    "nan_count": 70,
                    "categories": [
                      {
                        "name": "05/21/2014",
                        "count": 1478
                      },
                      {
                        "name": "4736 others",
                        "count": 17433
                      },
                      {
                        "name": "Missing",
                        "count": 70
                      }
                    ]
                  }
                },
                {
                  "name": "AnnualSalary",
                  "dtype": "object"
                },
                {
                  "name": "GrossPay",
                  "dtype": "object"
                },
                {
                  "name": "_deepnote_index_column",
                  "dtype": "int64"
                }
              ],
              "rows": [
                {
                  " Name": "Aaron,Keontae E",
                  "JobTitle": "AIDE BLUE CHIP",
                  "AgencyID": "W02200",
                  "Agency": "Youth Summer  ",
                  "HireDate": "06/10/2013",
                  "AnnualSalary": "$11310.00",
                  "GrossPay": "$873.63",
                  "_deepnote_index_column": 0
                },
                {
                  " Name": "Aaron,Patricia G",
                  "JobTitle": "Facilities/Office Services II",
                  "AgencyID": "A03031",
                  "Agency": "OED-Employment Dev ",
                  "HireDate": "10/24/1979",
                  "AnnualSalary": "$53428.00",
                  "GrossPay": "$52868.38",
                  "_deepnote_index_column": 1
                },
                {
                  " Name": "Aaron,Petra L",
                  "JobTitle": "ASSISTANT STATE'S ATTORNEY",
                  "AgencyID": "A29005",
                  "Agency": "States Attorneys Office ",
                  "HireDate": "09/25/2006",
                  "AnnualSalary": "$68300.00",
                  "GrossPay": "$67439.19",
                  "_deepnote_index_column": 2
                },
                {
                  " Name": "Abaineh,Yohannes T",
                  "JobTitle": "EPIDEMIOLOGIST",
                  "AgencyID": "A65026",
                  "Agency": "HLTH-Health Department ",
                  "HireDate": "07/23/2009",
                  "AnnualSalary": "$62000.00",
                  "GrossPay": "$58654.74",
                  "_deepnote_index_column": 3
                },
                {
                  " Name": "Abbene,Anthony M",
                  "JobTitle": "POLICE OFFICER TRAINEE",
                  "AgencyID": "A99416",
                  "Agency": "Police Department ",
                  "HireDate": "07/24/2013",
                  "AnnualSalary": "$43999.00",
                  "GrossPay": "$39686.95",
                  "_deepnote_index_column": 4
                },
                {
                  " Name": "Abbey,Emmanuel",
                  "JobTitle": "CONTRACT SERV SPEC II",
                  "AgencyID": "A40001",
                  "Agency": "M-R Info Technology ",
                  "HireDate": "05/01/2013",
                  "AnnualSalary": "$52000.00",
                  "GrossPay": "$47019.75",
                  "_deepnote_index_column": 5
                },
                {
                  " Name": "Abdal-Rahim,Naim A",
                  "JobTitle": "EMT Firefighter Suppression",
                  "AgencyID": "A64120",
                  "Agency": "Fire Department ",
                  "HireDate": "03/30/2011",
                  "AnnualSalary": "$62175.00",
                  "GrossPay": "$61451.50",
                  "_deepnote_index_column": 6
                },
                {
                  " Name": "Abdi,Ezekiel W",
                  "JobTitle": "POLICE SERGEANT",
                  "AgencyID": "A99127",
                  "Agency": "Police Department ",
                  "HireDate": "06/14/2007",
                  "AnnualSalary": "$70918.00",
                  "GrossPay": "$87900.27",
                  "_deepnote_index_column": 7
                },
                {
                  " Name": "Abdul Adl,Attrice A",
                  "JobTitle": "RADIO DISPATCHER SHERIFF",
                  "AgencyID": "A38410",
                  "Agency": "Sheriff's Office ",
                  "HireDate": "09/02/1999",
                  "AnnualSalary": "$42438.00",
                  "GrossPay": "$53667.53",
                  "_deepnote_index_column": 8
                },
                {
                  " Name": "Abdul Aziz,Hajr E",
                  "JobTitle": "AIDE BLUE CHIP",
                  "AgencyID": "W02097",
                  "Agency": "Youth Summer  ",
                  "HireDate": "06/18/2014",
                  "AnnualSalary": "$11310.00",
                  "GrossPay": "nan",
                  "_deepnote_index_column": 9
                }
              ]
            },
            "text/plain": "                       Name                       JobTitle AgencyID  \\\n0           Aaron,Keontae E                 AIDE BLUE CHIP   W02200   \n1          Aaron,Patricia G  Facilities/Office Services II   A03031   \n2             Aaron,Petra L     ASSISTANT STATE'S ATTORNEY   A29005   \n3        Abaineh,Yohannes T                 EPIDEMIOLOGIST   A65026   \n4          Abbene,Anthony M         POLICE OFFICER TRAINEE   A99416   \n...                     ...                            ...      ...   \n18976  Zotamou,Jean Marie D                 AIDE BLUE CHIP   W02235   \n18977       Zotamou,Pivot D                 AIDE BLUE CHIP   W02629   \n18978  Zovistoski,Zachary D         POLICE OFFICER TRAINEE   A99416   \n18979     Zubyk,Stanislav T                 POLICE OFFICER   A99262   \n18980    Zukowski,Charles J   Waste Water Tech Supv I Pump   A50206   \n\n                         Agency    HireDate AnnualSalary   GrossPay  \n0                Youth Summer    06/10/2013    $11310.00    $873.63  \n1           OED-Employment Dev   10/24/1979    $53428.00  $52868.38  \n2      States Attorneys Office   09/25/2006    $68300.00  $67439.19  \n3       HLTH-Health Department   07/23/2009    $62000.00  $58654.74  \n4            Police Department   07/24/2013    $43999.00  $39686.95  \n...                         ...         ...          ...        ...  \n18976            Youth Summer    05/21/2014    $11310.00        NaN  \n18977             Youth Summer   05/21/2014    $11310.00        NaN  \n18978        Police Department   12/17/2013    $43999.00  $21070.03  \n18979        Police Department   01/23/2013    $44104.00  $48608.12  \n18980  DPW-Water & Waste Water   10/15/1979    $53568.00  $52164.32  \n\n[18981 rows x 7 columns]",
            "text/html": "<div>\n<style scoped>\n    .dataframe tbody tr th:only-of-type {\n        vertical-align: middle;\n    }\n\n    .dataframe tbody tr th {\n        vertical-align: top;\n    }\n\n    .dataframe thead th {\n        text-align: right;\n    }\n</style>\n<table border=\"1\" class=\"dataframe\">\n  <thead>\n    <tr style=\"text-align: right;\">\n      <th></th>\n      <th>Name</th>\n      <th>JobTitle</th>\n      <th>AgencyID</th>\n      <th>Agency</th>\n      <th>HireDate</th>\n      <th>AnnualSalary</th>\n      <th>GrossPay</th>\n    </tr>\n  </thead>\n  <tbody>\n    <tr>\n      <th>0</th>\n      <td>Aaron,Keontae E</td>\n      <td>AIDE BLUE CHIP</td>\n      <td>W02200</td>\n      <td>Youth Summer</td>\n      <td>06/10/2013</td>\n      <td>$11310.00</td>\n      <td>$873.63</td>\n    </tr>\n    <tr>\n      <th>1</th>\n      <td>Aaron,Patricia G</td>\n      <td>Facilities/Office Services II</td>\n      <td>A03031</td>\n      <td>OED-Employment Dev</td>\n      <td>10/24/1979</td>\n      <td>$53428.00</td>\n      <td>$52868.38</td>\n    </tr>\n    <tr>\n      <th>2</th>\n      <td>Aaron,Petra L</td>\n      <td>ASSISTANT STATE'S ATTORNEY</td>\n      <td>A29005</td>\n      <td>States Attorneys Office</td>\n      <td>09/25/2006</td>\n      <td>$68300.00</td>\n      <td>$67439.19</td>\n    </tr>\n    <tr>\n      <th>3</th>\n      <td>Abaineh,Yohannes T</td>\n      <td>EPIDEMIOLOGIST</td>\n      <td>A65026</td>\n      <td>HLTH-Health Department</td>\n      <td>07/23/2009</td>\n      <td>$62000.00</td>\n      <td>$58654.74</td>\n    </tr>\n    <tr>\n      <th>4</th>\n      <td>Abbene,Anthony M</td>\n      <td>POLICE OFFICER TRAINEE</td>\n      <td>A99416</td>\n      <td>Police Department</td>\n      <td>07/24/2013</td>\n      <td>$43999.00</td>\n      <td>$39686.95</td>\n    </tr>\n    <tr>\n      <th>...</th>\n      <td>...</td>\n      <td>...</td>\n      <td>...</td>\n      <td>...</td>\n      <td>...</td>\n      <td>...</td>\n      <td>...</td>\n    </tr>\n    <tr>\n      <th>18976</th>\n      <td>Zotamou,Jean Marie D</td>\n      <td>AIDE BLUE CHIP</td>\n      <td>W02235</td>\n      <td>Youth Summer</td>\n      <td>05/21/2014</td>\n      <td>$11310.00</td>\n      <td>NaN</td>\n    </tr>\n    <tr>\n      <th>18977</th>\n      <td>Zotamou,Pivot D</td>\n      <td>AIDE BLUE CHIP</td>\n      <td>W02629</td>\n      <td>Youth Summer</td>\n      <td>05/21/2014</td>\n      <td>$11310.00</td>\n      <td>NaN</td>\n    </tr>\n    <tr>\n      <th>18978</th>\n      <td>Zovistoski,Zachary D</td>\n      <td>POLICE OFFICER TRAINEE</td>\n      <td>A99416</td>\n      <td>Police Department</td>\n      <td>12/17/2013</td>\n      <td>$43999.00</td>\n      <td>$21070.03</td>\n    </tr>\n    <tr>\n      <th>18979</th>\n      <td>Zubyk,Stanislav T</td>\n      <td>POLICE OFFICER</td>\n      <td>A99262</td>\n      <td>Police Department</td>\n      <td>01/23/2013</td>\n      <td>$44104.00</td>\n      <td>$48608.12</td>\n    </tr>\n    <tr>\n      <th>18980</th>\n      <td>Zukowski,Charles J</td>\n      <td>Waste Water Tech Supv I Pump</td>\n      <td>A50206</td>\n      <td>DPW-Water &amp; Waste Water</td>\n      <td>10/15/1979</td>\n      <td>$53568.00</td>\n      <td>$52164.32</td>\n    </tr>\n  </tbody>\n</table>\n<p>18981 rows × 7 columns</p>\n</div>"
          },
          "metadata": {}
        }
      ],
      "execution_count": null,
      "block_group": "be1910562fb041a2bc7ec7bca60c9442"
    },
    {
      "cell_type": "code",
      "source": "df.shape",
      "metadata": {
        "source_hash": null,
        "execution_start": 1703522937262,
        "execution_millis": 7,
        "deepnote_to_be_reexecuted": false,
        "cell_id": "3e365020c2ae4160b3279d5bc26171c0",
        "deepnote_cell_type": "code"
      },
      "outputs": [
        {
          "output_type": "execute_result",
          "execution_count": 9,
          "data": {
            "text/plain": "(18981, 7)"
          },
          "metadata": {}
        }
      ],
      "execution_count": null,
      "block_group": "1483e29eeb0b48058702a4fb8815c818"
    },
    {
      "cell_type": "code",
      "source": "df.info()",
      "metadata": {
        "source_hash": null,
        "execution_start": 1703522955269,
        "execution_millis": 23,
        "deepnote_to_be_reexecuted": false,
        "cell_id": "a53fd36c884d4248ad17ba4cdc1030c6",
        "deepnote_cell_type": "code"
      },
      "outputs": [
        {
          "name": "stdout",
          "text": "<class 'pandas.core.frame.DataFrame'>\nRangeIndex: 18981 entries, 0 to 18980\nData columns (total 7 columns):\n #   Column        Non-Null Count  Dtype \n---  ------        --------------  ----- \n 0    Name         18981 non-null  object\n 1   JobTitle      18981 non-null  object\n 2   AgencyID      18981 non-null  object\n 3   Agency        18981 non-null  object\n 4   HireDate      18911 non-null  object\n 5   AnnualSalary  18981 non-null  object\n 6   GrossPay      15758 non-null  object\ndtypes: object(7)\nmemory usage: 1.0+ MB\n",
          "output_type": "stream"
        }
      ],
      "execution_count": null,
      "block_group": "cb4497776a4444bdb03cbfa88ebf1a26"
    },
    {
      "cell_type": "code",
      "source": "df.describe()",
      "metadata": {
        "source_hash": null,
        "execution_start": 1703522970432,
        "execution_millis": 131,
        "deepnote_to_be_reexecuted": false,
        "cell_id": "bd1510afcb00492ba5b74ef2abfff7ad",
        "deepnote_cell_type": "code"
      },
      "outputs": [
        {
          "output_type": "execute_result",
          "execution_count": 11,
          "data": {
            "application/vnd.deepnote.dataframe.v3+json": {
              "column_count": 7,
              "row_count": 4,
              "columns": [
                {
                  "name": " Name",
                  "dtype": "object",
                  "stats": {
                    "unique_count": 4,
                    "nan_count": 0,
                    "categories": [
                      {
                        "name": "18981",
                        "count": 1
                      },
                      {
                        "name": "18788",
                        "count": 1
                      },
                      {
                        "name": "2 others",
                        "count": 2
                      }
                    ]
                  }
                },
                {
                  "name": "JobTitle",
                  "dtype": "object",
                  "stats": {
                    "unique_count": 4,
                    "nan_count": 0,
                    "categories": [
                      {
                        "name": "18981",
                        "count": 1
                      },
                      {
                        "name": "1075",
                        "count": 1
                      },
                      {
                        "name": "2 others",
                        "count": 2
                      }
                    ]
                  }
                },
                {
                  "name": "AgencyID",
                  "dtype": "object",
                  "stats": {
                    "unique_count": 4,
                    "nan_count": 0,
                    "categories": [
                      {
                        "name": "18981",
                        "count": 1
                      },
                      {
                        "name": "1177",
                        "count": 1
                      },
                      {
                        "name": "2 others",
                        "count": 2
                      }
                    ]
                  }
                },
                {
                  "name": "Agency",
                  "dtype": "object",
                  "stats": {
                    "unique_count": 4,
                    "nan_count": 0,
                    "categories": [
                      {
                        "name": "18981",
                        "count": 1
                      },
                      {
                        "name": "65",
                        "count": 1
                      },
                      {
                        "name": "2 others",
                        "count": 2
                      }
                    ]
                  }
                },
                {
                  "name": "HireDate",
                  "dtype": "object",
                  "stats": {
                    "unique_count": 4,
                    "nan_count": 0,
                    "categories": [
                      {
                        "name": "18911",
                        "count": 1
                      },
                      {
                        "name": "4737",
                        "count": 1
                      },
                      {
                        "name": "2 others",
                        "count": 2
                      }
                    ]
                  }
                },
                {
                  "name": "AnnualSalary",
                  "dtype": "object",
                  "stats": {
                    "unique_count": 4,
                    "nan_count": 0,
                    "categories": [
                      {
                        "name": "18981",
                        "count": 1
                      },
                      {
                        "name": "1590",
                        "count": 1
                      },
                      {
                        "name": "2 others",
                        "count": 2
                      }
                    ]
                  }
                },
                {
                  "name": "GrossPay",
                  "dtype": "object",
                  "stats": {
                    "unique_count": 4,
                    "nan_count": 0,
                    "categories": [
                      {
                        "name": "15758",
                        "count": 1
                      },
                      {
                        "name": "13732",
                        "count": 1
                      },
                      {
                        "name": "2 others",
                        "count": 2
                      }
                    ]
                  }
                },
                {
                  "name": "_deepnote_index_column",
                  "dtype": "object"
                }
              ],
              "rows": [
                {
                  " Name": "18981",
                  "JobTitle": "18981",
                  "AgencyID": "18981",
                  "Agency": "18981",
                  "HireDate": "18911",
                  "AnnualSalary": "18981",
                  "GrossPay": "15758",
                  "_deepnote_index_column": "count"
                },
                {
                  " Name": "18788",
                  "JobTitle": "1075",
                  "AgencyID": "1177",
                  "Agency": "65",
                  "HireDate": "4737",
                  "AnnualSalary": "1590",
                  "GrossPay": "13732",
                  "_deepnote_index_column": "unique"
                },
                {
                  " Name": "Brown,Drucilla",
                  "JobTitle": "AIDE BLUE CHIP",
                  "AgencyID": "P04001",
                  "Agency": "Youth Summer  ",
                  "HireDate": "05/21/2014",
                  "AnnualSalary": "$11310.00",
                  "GrossPay": "$1051.25",
                  "_deepnote_index_column": "top"
                },
                {
                  " Name": "2",
                  "JobTitle": "4817",
                  "AgencyID": "316",
                  "Agency": "4323",
                  "HireDate": "1478",
                  "AnnualSalary": "4811",
                  "GrossPay": "848",
                  "_deepnote_index_column": "freq"
                }
              ]
            },
            "text/plain": "                  Name        JobTitle AgencyID          Agency    HireDate  \\\ncount            18981           18981    18981           18981       18911   \nunique           18788            1075     1177              65        4737   \ntop     Brown,Drucilla  AIDE BLUE CHIP   P04001  Youth Summer    05/21/2014   \nfreq                 2            4817      316            4323        1478   \n\n       AnnualSalary  GrossPay  \ncount         18981     15758  \nunique         1590     13732  \ntop       $11310.00  $1051.25  \nfreq           4811       848  ",
            "text/html": "<div>\n<style scoped>\n    .dataframe tbody tr th:only-of-type {\n        vertical-align: middle;\n    }\n\n    .dataframe tbody tr th {\n        vertical-align: top;\n    }\n\n    .dataframe thead th {\n        text-align: right;\n    }\n</style>\n<table border=\"1\" class=\"dataframe\">\n  <thead>\n    <tr style=\"text-align: right;\">\n      <th></th>\n      <th>Name</th>\n      <th>JobTitle</th>\n      <th>AgencyID</th>\n      <th>Agency</th>\n      <th>HireDate</th>\n      <th>AnnualSalary</th>\n      <th>GrossPay</th>\n    </tr>\n  </thead>\n  <tbody>\n    <tr>\n      <th>count</th>\n      <td>18981</td>\n      <td>18981</td>\n      <td>18981</td>\n      <td>18981</td>\n      <td>18911</td>\n      <td>18981</td>\n      <td>15758</td>\n    </tr>\n    <tr>\n      <th>unique</th>\n      <td>18788</td>\n      <td>1075</td>\n      <td>1177</td>\n      <td>65</td>\n      <td>4737</td>\n      <td>1590</td>\n      <td>13732</td>\n    </tr>\n    <tr>\n      <th>top</th>\n      <td>Brown,Drucilla</td>\n      <td>AIDE BLUE CHIP</td>\n      <td>P04001</td>\n      <td>Youth Summer</td>\n      <td>05/21/2014</td>\n      <td>$11310.00</td>\n      <td>$1051.25</td>\n    </tr>\n    <tr>\n      <th>freq</th>\n      <td>2</td>\n      <td>4817</td>\n      <td>316</td>\n      <td>4323</td>\n      <td>1478</td>\n      <td>4811</td>\n      <td>848</td>\n    </tr>\n  </tbody>\n</table>\n</div>"
          },
          "metadata": {}
        }
      ],
      "execution_count": null,
      "block_group": "d6da31d551f5434489d363aedf6febf4"
    },
    {
      "cell_type": "code",
      "source": "df.isnull().sum()",
      "metadata": {
        "source_hash": null,
        "execution_start": 1703523251514,
        "execution_millis": 6,
        "deepnote_to_be_reexecuted": false,
        "cell_id": "62cfdf112e5c45169784098165ba3295",
        "deepnote_cell_type": "code"
      },
      "outputs": [
        {
          "output_type": "execute_result",
          "execution_count": 12,
          "data": {
            "text/plain": " Name              0\nJobTitle           0\nAgencyID           0\nAgency             0\nHireDate          70\nAnnualSalary       0\nGrossPay        3223\ndtype: int64"
          },
          "metadata": {}
        }
      ],
      "execution_count": null,
      "block_group": "4aa91a6f33e34e2491d3802bca3954a7"
    },
    {
      "cell_type": "code",
      "source": "df.drop('GrossPay', axis=1, inplace=True)",
      "metadata": {
        "source_hash": null,
        "execution_start": 1703523305242,
        "execution_millis": 15,
        "deepnote_to_be_reexecuted": false,
        "cell_id": "346be0cc221a4fbba1fdb3596b1a8bca",
        "deepnote_cell_type": "code"
      },
      "outputs": [],
      "execution_count": null,
      "block_group": "82e958d02a1f4b9e8201c368d43ea159"
    },
    {
      "cell_type": "code",
      "source": "df\n",
      "metadata": {
        "source_hash": null,
        "execution_start": 1703523309971,
        "execution_millis": 121,
        "deepnote_to_be_reexecuted": false,
        "cell_id": "8a0888a5f2e9446b881b1181a34aca9a",
        "deepnote_cell_type": "code"
      },
      "outputs": [
        {
          "output_type": "execute_result",
          "execution_count": 14,
          "data": {
            "application/vnd.deepnote.dataframe.v3+json": {
              "column_count": 6,
              "row_count": 18981,
              "columns": [
                {
                  "name": " Name",
                  "dtype": "object",
                  "stats": {
                    "unique_count": 18788,
                    "nan_count": 0,
                    "categories": [
                      {
                        "name": "Alexander,Jennifer",
                        "count": 2
                      },
                      {
                        "name": "Amatus-Salaam,Aasya",
                        "count": 2
                      },
                      {
                        "name": "18786 others",
                        "count": 18977
                      }
                    ]
                  }
                },
                {
                  "name": "JobTitle",
                  "dtype": "object",
                  "stats": {
                    "unique_count": 1075,
                    "nan_count": 0,
                    "categories": [
                      {
                        "name": "AIDE BLUE CHIP",
                        "count": 4817
                      },
                      {
                        "name": "POLICE OFFICER",
                        "count": 1866
                      },
                      {
                        "name": "1073 others",
                        "count": 12298
                      }
                    ]
                  }
                },
                {
                  "name": "AgencyID",
                  "dtype": "object",
                  "stats": {
                    "unique_count": 1177,
                    "nan_count": 0,
                    "categories": [
                      {
                        "name": "P04001",
                        "count": 316
                      },
                      {
                        "name": "C90786",
                        "count": 276
                      },
                      {
                        "name": "1175 others",
                        "count": 18389
                      }
                    ]
                  }
                },
                {
                  "name": "Agency",
                  "dtype": "object",
                  "stats": {
                    "unique_count": 65,
                    "nan_count": 0,
                    "categories": [
                      {
                        "name": "Youth Summer  ",
                        "count": 4323
                      },
                      {
                        "name": "Police Department ",
                        "count": 3211
                      },
                      {
                        "name": "63 others",
                        "count": 11447
                      }
                    ]
                  }
                },
                {
                  "name": "HireDate",
                  "dtype": "object",
                  "stats": {
                    "unique_count": 4737,
                    "nan_count": 70,
                    "categories": [
                      {
                        "name": "05/21/2014",
                        "count": 1478
                      },
                      {
                        "name": "4736 others",
                        "count": 17433
                      },
                      {
                        "name": "Missing",
                        "count": 70
                      }
                    ]
                  }
                },
                {
                  "name": "AnnualSalary",
                  "dtype": "object"
                },
                {
                  "name": "_deepnote_index_column",
                  "dtype": "int64"
                }
              ],
              "rows": [
                {
                  " Name": "Aaron,Keontae E",
                  "JobTitle": "AIDE BLUE CHIP",
                  "AgencyID": "W02200",
                  "Agency": "Youth Summer  ",
                  "HireDate": "06/10/2013",
                  "AnnualSalary": "$11310.00",
                  "_deepnote_index_column": 0
                },
                {
                  " Name": "Aaron,Patricia G",
                  "JobTitle": "Facilities/Office Services II",
                  "AgencyID": "A03031",
                  "Agency": "OED-Employment Dev ",
                  "HireDate": "10/24/1979",
                  "AnnualSalary": "$53428.00",
                  "_deepnote_index_column": 1
                },
                {
                  " Name": "Aaron,Petra L",
                  "JobTitle": "ASSISTANT STATE'S ATTORNEY",
                  "AgencyID": "A29005",
                  "Agency": "States Attorneys Office ",
                  "HireDate": "09/25/2006",
                  "AnnualSalary": "$68300.00",
                  "_deepnote_index_column": 2
                },
                {
                  " Name": "Abaineh,Yohannes T",
                  "JobTitle": "EPIDEMIOLOGIST",
                  "AgencyID": "A65026",
                  "Agency": "HLTH-Health Department ",
                  "HireDate": "07/23/2009",
                  "AnnualSalary": "$62000.00",
                  "_deepnote_index_column": 3
                },
                {
                  " Name": "Abbene,Anthony M",
                  "JobTitle": "POLICE OFFICER TRAINEE",
                  "AgencyID": "A99416",
                  "Agency": "Police Department ",
                  "HireDate": "07/24/2013",
                  "AnnualSalary": "$43999.00",
                  "_deepnote_index_column": 4
                },
                {
                  " Name": "Abbey,Emmanuel",
                  "JobTitle": "CONTRACT SERV SPEC II",
                  "AgencyID": "A40001",
                  "Agency": "M-R Info Technology ",
                  "HireDate": "05/01/2013",
                  "AnnualSalary": "$52000.00",
                  "_deepnote_index_column": 5
                },
                {
                  " Name": "Abdal-Rahim,Naim A",
                  "JobTitle": "EMT Firefighter Suppression",
                  "AgencyID": "A64120",
                  "Agency": "Fire Department ",
                  "HireDate": "03/30/2011",
                  "AnnualSalary": "$62175.00",
                  "_deepnote_index_column": 6
                },
                {
                  " Name": "Abdi,Ezekiel W",
                  "JobTitle": "POLICE SERGEANT",
                  "AgencyID": "A99127",
                  "Agency": "Police Department ",
                  "HireDate": "06/14/2007",
                  "AnnualSalary": "$70918.00",
                  "_deepnote_index_column": 7
                },
                {
                  " Name": "Abdul Adl,Attrice A",
                  "JobTitle": "RADIO DISPATCHER SHERIFF",
                  "AgencyID": "A38410",
                  "Agency": "Sheriff's Office ",
                  "HireDate": "09/02/1999",
                  "AnnualSalary": "$42438.00",
                  "_deepnote_index_column": 8
                },
                {
                  " Name": "Abdul Aziz,Hajr E",
                  "JobTitle": "AIDE BLUE CHIP",
                  "AgencyID": "W02097",
                  "Agency": "Youth Summer  ",
                  "HireDate": "06/18/2014",
                  "AnnualSalary": "$11310.00",
                  "_deepnote_index_column": 9
                }
              ]
            },
            "text/plain": "                       Name                       JobTitle AgencyID  \\\n0           Aaron,Keontae E                 AIDE BLUE CHIP   W02200   \n1          Aaron,Patricia G  Facilities/Office Services II   A03031   \n2             Aaron,Petra L     ASSISTANT STATE'S ATTORNEY   A29005   \n3        Abaineh,Yohannes T                 EPIDEMIOLOGIST   A65026   \n4          Abbene,Anthony M         POLICE OFFICER TRAINEE   A99416   \n...                     ...                            ...      ...   \n18976  Zotamou,Jean Marie D                 AIDE BLUE CHIP   W02235   \n18977       Zotamou,Pivot D                 AIDE BLUE CHIP   W02629   \n18978  Zovistoski,Zachary D         POLICE OFFICER TRAINEE   A99416   \n18979     Zubyk,Stanislav T                 POLICE OFFICER   A99262   \n18980    Zukowski,Charles J   Waste Water Tech Supv I Pump   A50206   \n\n                         Agency    HireDate AnnualSalary  \n0                Youth Summer    06/10/2013    $11310.00  \n1           OED-Employment Dev   10/24/1979    $53428.00  \n2      States Attorneys Office   09/25/2006    $68300.00  \n3       HLTH-Health Department   07/23/2009    $62000.00  \n4            Police Department   07/24/2013    $43999.00  \n...                         ...         ...          ...  \n18976            Youth Summer    05/21/2014    $11310.00  \n18977             Youth Summer   05/21/2014    $11310.00  \n18978        Police Department   12/17/2013    $43999.00  \n18979        Police Department   01/23/2013    $44104.00  \n18980  DPW-Water & Waste Water   10/15/1979    $53568.00  \n\n[18981 rows x 6 columns]",
            "text/html": "<div>\n<style scoped>\n    .dataframe tbody tr th:only-of-type {\n        vertical-align: middle;\n    }\n\n    .dataframe tbody tr th {\n        vertical-align: top;\n    }\n\n    .dataframe thead th {\n        text-align: right;\n    }\n</style>\n<table border=\"1\" class=\"dataframe\">\n  <thead>\n    <tr style=\"text-align: right;\">\n      <th></th>\n      <th>Name</th>\n      <th>JobTitle</th>\n      <th>AgencyID</th>\n      <th>Agency</th>\n      <th>HireDate</th>\n      <th>AnnualSalary</th>\n    </tr>\n  </thead>\n  <tbody>\n    <tr>\n      <th>0</th>\n      <td>Aaron,Keontae E</td>\n      <td>AIDE BLUE CHIP</td>\n      <td>W02200</td>\n      <td>Youth Summer</td>\n      <td>06/10/2013</td>\n      <td>$11310.00</td>\n    </tr>\n    <tr>\n      <th>1</th>\n      <td>Aaron,Patricia G</td>\n      <td>Facilities/Office Services II</td>\n      <td>A03031</td>\n      <td>OED-Employment Dev</td>\n      <td>10/24/1979</td>\n      <td>$53428.00</td>\n    </tr>\n    <tr>\n      <th>2</th>\n      <td>Aaron,Petra L</td>\n      <td>ASSISTANT STATE'S ATTORNEY</td>\n      <td>A29005</td>\n      <td>States Attorneys Office</td>\n      <td>09/25/2006</td>\n      <td>$68300.00</td>\n    </tr>\n    <tr>\n      <th>3</th>\n      <td>Abaineh,Yohannes T</td>\n      <td>EPIDEMIOLOGIST</td>\n      <td>A65026</td>\n      <td>HLTH-Health Department</td>\n      <td>07/23/2009</td>\n      <td>$62000.00</td>\n    </tr>\n    <tr>\n      <th>4</th>\n      <td>Abbene,Anthony M</td>\n      <td>POLICE OFFICER TRAINEE</td>\n      <td>A99416</td>\n      <td>Police Department</td>\n      <td>07/24/2013</td>\n      <td>$43999.00</td>\n    </tr>\n    <tr>\n      <th>...</th>\n      <td>...</td>\n      <td>...</td>\n      <td>...</td>\n      <td>...</td>\n      <td>...</td>\n      <td>...</td>\n    </tr>\n    <tr>\n      <th>18976</th>\n      <td>Zotamou,Jean Marie D</td>\n      <td>AIDE BLUE CHIP</td>\n      <td>W02235</td>\n      <td>Youth Summer</td>\n      <td>05/21/2014</td>\n      <td>$11310.00</td>\n    </tr>\n    <tr>\n      <th>18977</th>\n      <td>Zotamou,Pivot D</td>\n      <td>AIDE BLUE CHIP</td>\n      <td>W02629</td>\n      <td>Youth Summer</td>\n      <td>05/21/2014</td>\n      <td>$11310.00</td>\n    </tr>\n    <tr>\n      <th>18978</th>\n      <td>Zovistoski,Zachary D</td>\n      <td>POLICE OFFICER TRAINEE</td>\n      <td>A99416</td>\n      <td>Police Department</td>\n      <td>12/17/2013</td>\n      <td>$43999.00</td>\n    </tr>\n    <tr>\n      <th>18979</th>\n      <td>Zubyk,Stanislav T</td>\n      <td>POLICE OFFICER</td>\n      <td>A99262</td>\n      <td>Police Department</td>\n      <td>01/23/2013</td>\n      <td>$44104.00</td>\n    </tr>\n    <tr>\n      <th>18980</th>\n      <td>Zukowski,Charles J</td>\n      <td>Waste Water Tech Supv I Pump</td>\n      <td>A50206</td>\n      <td>DPW-Water &amp; Waste Water</td>\n      <td>10/15/1979</td>\n      <td>$53568.00</td>\n    </tr>\n  </tbody>\n</table>\n<p>18981 rows × 6 columns</p>\n</div>"
          },
          "metadata": {}
        }
      ],
      "execution_count": null,
      "block_group": "9e61e630a6c24bf6b1bb25e0286e2159"
    },
    {
      "cell_type": "code",
      "source": "",
      "metadata": {
        "cell_id": "e9b6fd8950464e69bb9417cdd086027b",
        "deepnote_cell_type": "code"
      },
      "outputs": [],
      "execution_count": null,
      "block_group": "b6553ebab1a84702830e255bbd36f5d6"
    },
    {
      "cell_type": "markdown",
      "source": "<a style='text-decoration:none;line-height:16px;display:flex;color:#5B5B62;padding:10px;justify-content:end;' href='https://deepnote.com?utm_source=created-in-deepnote-cell&projectId=092db9f4-8ca6-4f26-b861-61a1e4db6b37' target=\"_blank\">\n<img alt='Created in deepnote.com' style='display:inline;max-height:16px;margin:0px;margin-right:7.5px;' src='data:image/svg+xml;base64,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' > </img>\nCreated in <span style='font-weight:600;margin-left:4px;'>Deepnote</span></a>",
      "metadata": {
        "created_in_deepnote_cell": true,
        "deepnote_cell_type": "markdown"
      }
    }
  ],
  "nbformat": 4,
  "nbformat_minor": 0,
  "metadata": {
    "deepnote": {},
    "orig_nbformat": 2,
    "deepnote_notebook_id": "adbc2a9c539d4ffe9bc0e363c5ea77b4",
    "deepnote_persisted_session": {
      "createdAt": "2023-12-25T17:15:06.389Z"
    },
    "deepnote_execution_queue": []
  }
}